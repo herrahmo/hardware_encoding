{
 "cells": [
  {
   "cell_type": "code",
   "execution_count": 1,
   "id": "1ba82cbf",
   "metadata": {},
   "outputs": [],
   "source": [
    "import torch\n",
    "import torchvision\n",
    "import onlinehd\n",
    "import torchvision.datasets as datasets\n",
    "import numpy as np\n",
    "import sklearn\n",
    "from sklearn import *\n",
    "import pandas as pd"
   ]
  },
  {
   "cell_type": "code",
   "execution_count": 3,
   "id": "ca840e5c",
   "metadata": {},
   "outputs": [],
   "source": [
    "# fetches data\n",
    "x, y = sklearn.datasets.fetch_openml('mnist_784', return_X_y=True)\n",
    "x = x.astype(float)\n",
    "y = y.astype(int)\n",
    "y = np.array(y)\n",
    "\n",
    "# split and normalize\n",
    "x, x_test, y, y_test = sklearn.model_selection.train_test_split(x, y)\n",
    "x = x[:10000]\n",
    "y = y[:10000]\n",
    "x_test = x_test[:2000]\n",
    "y_test = y_test[:2000]\n",
    "scaler = sklearn.preprocessing.Normalizer().fit(x)\n",
    "x = scaler.transform(x)\n",
    "x_test = scaler.transform(x_test)\n",
    "\n",
    "# changes data to pytorch's tensors\n",
    "x = torch.from_numpy(x).float()\n",
    "y = torch.from_numpy(y).long()\n",
    "x_test = torch.from_numpy(x_test).float()\n",
    "y_test = torch.from_numpy(y_test).long()\n",
    "        \n",
    "x = x.reshape(-1, 784)\n",
    "x_test = x_test.reshape(-1, 784)\n",
    "\n",
    "scaler = sklearn.preprocessing.Normalizer().fit(x.reshape(-1, 784))\n",
    "x = torch.tensor(scaler.transform(x.reshape(-1, 784)))\n",
    "x_test = torch.tensor(scaler.transform(x_test.reshape(-1, 784)))"
   ]
  },
  {
   "cell_type": "code",
   "execution_count": 4,
   "id": "80fd77f0",
   "metadata": {},
   "outputs": [
    {
     "name": "stdout",
     "output_type": "stream",
     "text": [
      "torch.Size([10000, 784]) torch.Size([2000, 784])\n"
     ]
    }
   ],
   "source": [
    "print(x.shape, x_test.shape)"
   ]
  },
  {
   "cell_type": "code",
   "execution_count": 5,
   "id": "5e318eea",
   "metadata": {},
   "outputs": [],
   "source": [
    "x = x.numpy() #convert to Numpy array\n",
    "df = pd.DataFrame(x) #convert to a dataframe\n",
    "df.to_csv(\"./data/MNIST/X_train_dataset\",index=False) #save to file\n",
    "\n",
    "x_test = x_test.numpy() #convert to Numpy array\n",
    "df = pd.DataFrame(x_test) #convert to a dataframe\n",
    "df.to_csv(\"./data/MNIST/X_test_dataset\",index=False) #save to file"
   ]
  },
  {
   "cell_type": "code",
   "execution_count": 6,
   "id": "1f6a8e65",
   "metadata": {},
   "outputs": [],
   "source": [
    "df = pd.DataFrame(y) #convert to a dataframe\n",
    "df.to_csv(\"./data/MNIST/Y_train_dataset\",index=False) #save to file\n",
    "\n",
    "df = pd.DataFrame(y_test) #convert to a dataframe\n",
    "df.to_csv(\"./data/MNIST/Y_test_dataset\",index=False) #save to file"
   ]
  },
  {
   "cell_type": "code",
   "execution_count": null,
   "id": "241178fe",
   "metadata": {},
   "outputs": [],
   "source": []
  }
 ],
 "metadata": {
  "kernelspec": {
   "display_name": "Python 3 (ipykernel)",
   "language": "python",
   "name": "python3"
  },
  "language_info": {
   "codemirror_mode": {
    "name": "ipython",
    "version": 3
   },
   "file_extension": ".py",
   "mimetype": "text/x-python",
   "name": "python",
   "nbconvert_exporter": "python",
   "pygments_lexer": "ipython3",
   "version": "3.10.5"
  }
 },
 "nbformat": 4,
 "nbformat_minor": 5
}
