{
 "cells": [
  {
   "cell_type": "code",
   "execution_count": 1,
   "id": "1ba82cbf",
   "metadata": {},
   "outputs": [],
   "source": [
    "import torch\n",
    "import torchvision\n",
    "import onlinehd\n",
    "import torchvision.datasets as datasets\n",
    "import numpy as np\n",
    "import sklearn\n",
    "from sklearn import *\n",
    "import pandas as pd"
   ]
  },
  {
   "cell_type": "code",
   "execution_count": 3,
   "id": "ca840e5c",
   "metadata": {},
   "outputs": [],
   "source": [
    "# fetches data\n",
    "x, y = sklearn.datasets.fetch_openml('mnist_784', return_X_y=True)\n",
    "x = x.astype(float)\n",
    "y = y.astype(int)\n",
    "y = np.array(y)\n",
    "\n",
    "# split and normalize\n",
    "x, x_test, y, y_test = sklearn.model_selection.train_test_split(x, y)\n",
    "x = x[:10000]\n",
    "y = y[:10000]\n",
    "x_test = x_test[:2000]\n",
    "y_test = y_test[:2000]\n",
    "scaler = sklearn.preprocessing.Normalizer().fit(x)\n",
    "x = scaler.transform(x)\n",
    "x_test = scaler.transform(x_test)\n",
    "\n",
    "# changes data to pytorch's tensors\n",
    "x = torch.from_numpy(x).float()\n",
    "y = torch.from_numpy(y).long()\n",
    "x_test = torch.from_numpy(x_test).float()\n",
    "y_test = torch.from_numpy(y_test).long()\n",
    "        \n",
    "x = x.reshape(-1, 784)\n",
    "x_test = x_test.reshape(-1, 784)\n",
    "\n",
    "scaler = sklearn.preprocessing.Normalizer().fit(x.reshape(-1, 784))\n",
    "x = torch.tensor(scaler.transform(x.reshape(-1, 784)))\n",
    "x_test = torch.tensor(scaler.transform(x_test.reshape(-1, 784)))"
   ]
  },
  {
   "cell_type": "code",
   "execution_count": 4,
   "id": "80fd77f0",
   "metadata": {},
   "outputs": [
    {
     "name": "stdout",
     "output_type": "stream",
     "text": [
      "torch.Size([10000, 784]) torch.Size([2000, 784])\n"
     ]
    }
   ],
   "source": [
    "print(x.shape, x_test.shape)"
   ]
  },
  {
   "cell_type": "code",
   "execution_count": 5,
   "id": "5e318eea",
   "metadata": {},
   "outputs": [],
   "source": [
    "x = x.numpy() #convert to Numpy array\n",
    "df = pd.DataFrame(x) #convert to a dataframe\n",
    "df.to_csv(\"./data/MNIST/X_train_dataset\",index=False) #save to file\n",
    "\n",
    "x_test = x_test.numpy() #convert to Numpy array\n",
    "df = pd.DataFrame(x_test) #convert to a dataframe\n",
    "df.to_csv(\"./data/MNIST/X_test_dataset\",index=False) #save to file"
   ]
  },
  {
   "cell_type": "code",
   "execution_count": 6,
   "id": "1f6a8e65",
   "metadata": {},
   "outputs": [],
   "source": [
    "df = pd.DataFrame(y) #convert to a dataframe\n",
    "df.to_csv(\"./data/MNIST/Y_train_dataset\",index=False) #save to file\n",
    "\n",
    "df = pd.DataFrame(y_test) #convert to a dataframe\n",
    "df.to_csv(\"./data/MNIST/Y_test_dataset\",index=False) #save to file"
   ]
  },
  {
   "cell_type": "code",
   "execution_count": 3,
   "id": "241178fe",
   "metadata": {},
   "outputs": [],
   "source": [
    "# open/read the .csv dataset with panda\n",
    "coll = pd.read_csv(\"./data/original_college_data.csv\") \n",
    "# make categorical variables numeric\n",
    "coll[\"type_school\"]= coll[\"type_school\"].replace(\"Academic\", 0)\n",
    "coll[\"type_school\"]= coll[\"type_school\"].replace(\"Vocational\", 1)\n",
    "coll[\"school_accreditation\"]= coll[\"school_accreditation\"].replace(\"A\", 0)\n",
    "coll[\"school_accreditation\"]= coll[\"school_accreditation\"].replace(\"B\", 1)\n",
    "coll[\"gender\"]= coll[\"gender\"].replace(\"Male\", 1)\n",
    "coll[\"gender\"]= coll[\"gender\"].replace(\"Female\", 0)\n",
    "coll[\"interest\"]= coll[\"interest\"].replace(\"Not Interested\", -2)\n",
    "coll[\"interest\"]= coll[\"interest\"].replace(\"Less Interested\", -1)\n",
    "coll[\"interest\"]= coll[\"interest\"].replace(\"Uncertain\", 0)\n",
    "coll[\"interest\"]= coll[\"interest\"].replace(\"Quiet Interested\", 1)\n",
    "coll[\"interest\"]= coll[\"interest\"].replace(\"Very Interested\", 2)\n",
    "coll[\"residence\"]= coll[\"residence\"].replace(\"Urban\", 1)\n",
    "coll[\"residence\"]= coll[\"residence\"].replace(\"Rural\", 0)\n",
    "coll[\"parent_was_in_college\"]= coll[\"parent_was_in_college\"].replace(True, 1)\n",
    "coll[\"parent_was_in_college\"]= coll[\"parent_was_in_college\"].replace(False, 0)\n",
    "coll[\"in_college\"]= coll[\"in_college\"].replace(\"TRUE\", 1)\n",
    "coll[\"in_college\"]= coll[\"in_college\"].replace(\"FALSE\", 0)\n",
    "\n",
    "coll.to_csv(\"./data/parsed_college_data.csv\",index=False) #save to file"
   ]
  }
 ],
 "metadata": {
  "kernelspec": {
   "display_name": "Python 3.10.5 ('hd')",
   "language": "python",
   "name": "python3"
  },
  "language_info": {
   "codemirror_mode": {
    "name": "ipython",
    "version": 3
   },
   "file_extension": ".py",
   "mimetype": "text/x-python",
   "name": "python",
   "nbconvert_exporter": "python",
   "pygments_lexer": "ipython3",
   "version": "3.10.5"
  },
  "vscode": {
   "interpreter": {
    "hash": "0ef724c052a071b5cbb2af73fa4bb354cea126d905f88b77f607c8ed66c767f5"
   }
  }
 },
 "nbformat": 4,
 "nbformat_minor": 5
}
