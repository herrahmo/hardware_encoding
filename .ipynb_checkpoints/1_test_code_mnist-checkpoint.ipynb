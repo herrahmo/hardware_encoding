{
 "cells": [
  {
   "cell_type": "code",
   "execution_count": 1,
   "id": "9361f187",
   "metadata": {},
   "outputs": [],
   "source": [
    "import torch\n",
    "import torchvision\n",
    "import onlinehd\n",
    "import torchvision.datasets as datasets\n",
    "import numpy as np\n",
    "import sklearn\n",
    "from sklearn import *\n",
    "import pandas as pd"
   ]
  },
  {
   "cell_type": "code",
   "execution_count": 2,
   "id": "6bb2c832",
   "metadata": {},
   "outputs": [
    {
     "name": "stdout",
     "output_type": "stream",
     "text": [
      "X train shape (10000, 1000) Y train shape (10000, 1)\n",
      "X test shape (2000, 1000) Y Test shape (2000, 1)\n"
     ]
    }
   ],
   "source": [
    "encoded = True\n",
    "if encoded:\n",
    "    X = pd.read_csv(\"./data/MNIST/X_train_encoded\").to_numpy()\n",
    "    X_test = pd.read_csv(\"./data/MNIST/X_test_encoded\").to_numpy()\n",
    "else:\n",
    "    X = torch.Tensor(pd.read_csv(\"./data/MNIST/X_train_dataset\").to_numpy())\n",
    "    X_test = torch.Tensor(pd.read_csv(\"./data/MNIST/X_test_dataset\").to_numpy())\n",
    "    \n",
    "Y = pd.read_csv(\"./data/MNIST/Y_train_dataset\").to_numpy()\n",
    "Y_test = pd.read_csv(\"./data/MNIST/Y_test_dataset\").to_numpy()\n",
    "\n",
    "print(\"X train shape\", X.shape, \"Y train shape\", Y.shape)\n",
    "print(\"X test shape\", X_test.shape, \"Y Test shape\", Y_test.shape)"
   ]
  },
  {
   "cell_type": "code",
   "execution_count": 3,
   "id": "41972d87",
   "metadata": {},
   "outputs": [],
   "source": [
    "from fhrr import FHRR_Model"
   ]
  },
  {
   "cell_type": "code",
   "execution_count": 4,
   "id": "a8d2d0e5",
   "metadata": {},
   "outputs": [
    {
     "ename": "TypeError",
     "evalue": "'int' object is not callable",
     "output_type": "error",
     "traceback": [
      "\u001b[0;31m---------------------------------------------------------------------------\u001b[0m",
      "\u001b[0;31mTypeError\u001b[0m                                 Traceback (most recent call last)",
      "Input \u001b[0;32mIn [4]\u001b[0m, in \u001b[0;36m<cell line: 2>\u001b[0;34m()\u001b[0m\n\u001b[1;32m      1\u001b[0m classes \u001b[38;5;241m=\u001b[39m \u001b[38;5;28mlen\u001b[39m(np\u001b[38;5;241m.\u001b[39munique(Y))\n\u001b[0;32m----> 2\u001b[0m features \u001b[38;5;241m=\u001b[39m \u001b[43mX\u001b[49m\u001b[38;5;241;43m.\u001b[39;49m\u001b[43msize\u001b[49m\u001b[43m(\u001b[49m\u001b[38;5;241;43m1\u001b[39;49m\u001b[43m)\u001b[49m\n\u001b[1;32m      3\u001b[0m \u001b[38;5;28mprint\u001b[39m(\u001b[38;5;124m\"\u001b[39m\u001b[38;5;124mNumber of classes\u001b[39m\u001b[38;5;124m\"\u001b[39m, classes, \u001b[38;5;124m'\u001b[39m\u001b[38;5;130;01m\\n\u001b[39;00m\u001b[38;5;124mNumber of features\u001b[39m\u001b[38;5;124m'\u001b[39m, features)\n",
      "\u001b[0;31mTypeError\u001b[0m: 'int' object is not callable"
     ]
    }
   ],
   "source": [
    "classes = len(np.unique(Y))\n",
    "features = X.shape[1]\n",
    "print(\"Number of classes\", classes, '\\nNumber of features', features)"
   ]
  },
  {
   "cell_type": "code",
   "execution_count": null,
   "id": "4f631edf",
   "metadata": {},
   "outputs": [],
   "source": [
    "dim = 1000\n",
    "\n",
    "model = FHRR_Model(classes, features, dim)\n",
    "\n",
    "if encoded:\n",
    "    model.set_train_set(X, Y) \n",
    "else:   \n",
    "    model.encode_set(X, Y)\n",
    "    x = model.get_encoded_set()\n",
    "    df = pd.DataFrame(x) #convert to a dataframe\n",
    "    df.to_csv(\"./data/MNIST/X_train_encoded\",index=False) #save to file\n",
    "    \n",
    "    x_test = model.test_encode(X_test)\n",
    "    df = pd.DataFrame(x_test) #convert to a dataframe\n",
    "    df.to_csv(\"./data/MNIST/X_test_encoded\",index=False) #save to file"
   ]
  },
  {
   "cell_type": "code",
   "execution_count": null,
   "id": "5ac14e61",
   "metadata": {},
   "outputs": [],
   "source": []
  }
 ],
 "metadata": {
  "kernelspec": {
   "display_name": "Python 3 (ipykernel)",
   "language": "python",
   "name": "python3"
  },
  "language_info": {
   "codemirror_mode": {
    "name": "ipython",
    "version": 3
   },
   "file_extension": ".py",
   "mimetype": "text/x-python",
   "name": "python",
   "nbconvert_exporter": "python",
   "pygments_lexer": "ipython3",
   "version": "3.10.5"
  }
 },
 "nbformat": 4,
 "nbformat_minor": 5
}
