{
 "cells": [
  {
   "cell_type": "code",
   "execution_count": 5,
   "id": "9361f187",
   "metadata": {},
   "outputs": [],
   "source": [
    "import torch\n",
    "import torchvision\n",
    "import onlinehd\n",
    "import torchvision.datasets as datasets\n",
    "import numpy as np\n",
    "import sklearn\n",
    "from sklearn import *\n",
    "import pandas as pd"
   ]
  },
  {
   "cell_type": "code",
   "execution_count": 6,
   "id": "6bb2c832",
   "metadata": {},
   "outputs": [
    {
     "name": "stdout",
     "output_type": "stream",
     "text": [
      "X train shape torch.Size([10000, 784]) Y train shape (10000, 1)\n",
      "X test shape torch.Size([2000, 784]) Y Test shape (2000, 1)\n"
     ]
    }
   ],
   "source": [
    "X = torch.Tensor(pd.read_csv(\"./data/MNIST/X_train_dataset\").to_numpy())\n",
    "X_test = torch.Tensor(pd.read_csv(\"./data/MNIST/X_test_dataset\").to_numpy())    \n",
    "Y = pd.read_csv(\"./data/MNIST/Y_train_dataset\").to_numpy()\n",
    "Y_test = pd.read_csv(\"./data/MNIST/Y_test_dataset\").to_numpy()\n",
    "\n",
    "print(\"X train shape\", X.shape, \"Y train shape\", Y.shape)\n",
    "print(\"X test shape\", X_test.shape, \"Y Test shape\", Y_test.shape)"
   ]
  },
  {
   "cell_type": "code",
   "execution_count": 7,
   "id": "a8d2d0e5",
   "metadata": {},
   "outputs": [
    {
     "name": "stdout",
     "output_type": "stream",
     "text": [
      "Number of classes 10\n",
      "Number of features 784\n"
     ]
    }
   ],
   "source": [
    "classes = len(np.unique(Y))\n",
    "features = X.shape[1]\n",
    "print(\"Number of classes\", classes) \n",
    "print('Number of features', features)"
   ]
  },
  {
   "cell_type": "code",
   "execution_count": 8,
   "id": "4f631edf",
   "metadata": {},
   "outputs": [
    {
     "ename": "IndexError",
     "evalue": "The shape of the mask [100, 1] at index 1 does not match the shape of the indexed tensor [100, 10000] at index 1",
     "output_type": "error",
     "traceback": [
      "\u001b[0;31m---------------------------------------------------------------------------\u001b[0m",
      "\u001b[0;31mIndexError\u001b[0m                                Traceback (most recent call last)",
      "\u001b[1;32m/Users/haerba/Desktop/hardware_encoding/1_mnist onlinehd.ipynb Cell 4'\u001b[0m in \u001b[0;36m<cell line: 3>\u001b[0;34m()\u001b[0m\n\u001b[1;32m      <a href='vscode-notebook-cell:/Users/haerba/Desktop/hardware_encoding/1_mnist%20onlinehd.ipynb#ch0000004?line=0'>1</a>\u001b[0m dim \u001b[39m=\u001b[39m \u001b[39m10000\u001b[39m\n\u001b[1;32m      <a href='vscode-notebook-cell:/Users/haerba/Desktop/hardware_encoding/1_mnist%20onlinehd.ipynb#ch0000004?line=1'>2</a>\u001b[0m model \u001b[39m=\u001b[39m onlinehd\u001b[39m.\u001b[39mOnlineHD(classes, features, dim)\n\u001b[0;32m----> <a href='vscode-notebook-cell:/Users/haerba/Desktop/hardware_encoding/1_mnist%20onlinehd.ipynb#ch0000004?line=2'>3</a>\u001b[0m model\u001b[39m.\u001b[39;49mfit(X, Y, epochs\u001b[39m=\u001b[39;49m\u001b[39m20\u001b[39;49m)\n",
      "File \u001b[0;32m/opt/homebrew/Caskroom/miniforge/base/envs/hd/lib/python3.10/site-packages/onlinehd/onlinehd.py:183\u001b[0m, in \u001b[0;36mOnlineHD.fit\u001b[0;34m(self, x, y, encoded, lr, epochs, batch_size, one_pass_fit, bootstrap)\u001b[0m\n\u001b[1;32m    181\u001b[0m h \u001b[39m=\u001b[39m x \u001b[39mif\u001b[39;00m encoded \u001b[39melse\u001b[39;00m \u001b[39mself\u001b[39m\u001b[39m.\u001b[39mencode(x)\n\u001b[1;32m    182\u001b[0m \u001b[39mif\u001b[39;00m one_pass_fit:\n\u001b[0;32m--> 183\u001b[0m     \u001b[39mself\u001b[39;49m\u001b[39m.\u001b[39;49m_one_pass_fit(h, y, lr, bootstrap)\n\u001b[1;32m    184\u001b[0m \u001b[39mself\u001b[39m\u001b[39m.\u001b[39m_iterative_fit(h, y, lr, epochs, batch_size)\n\u001b[1;32m    185\u001b[0m \u001b[39mreturn\u001b[39;00m \u001b[39mself\u001b[39m\n",
      "File \u001b[0;32m/opt/homebrew/Caskroom/miniforge/base/envs/hd/lib/python3.10/site-packages/onlinehd/onlinehd.py:223\u001b[0m, in \u001b[0;36mOnlineHD._one_pass_fit\u001b[0;34m(self, h, y, lr, bootstrap)\u001b[0m\n\u001b[1;32m    221\u001b[0m \u001b[39m# updates each class hypervector (accumulating h_)\u001b[39;00m\n\u001b[1;32m    222\u001b[0m \u001b[39mfor\u001b[39;00m lbl \u001b[39min\u001b[39;00m \u001b[39mrange\u001b[39m(\u001b[39mself\u001b[39m\u001b[39m.\u001b[39mclasses):\n\u001b[0;32m--> 223\u001b[0m     \u001b[39mself\u001b[39m\u001b[39m.\u001b[39mmodel[lbl]\u001b[39m.\u001b[39madd_(h_[y_ \u001b[39m==\u001b[39;49m lbl]\u001b[39m.\u001b[39msum(\u001b[39m0\u001b[39m), alpha\u001b[39m=\u001b[39mlr)\n\u001b[1;32m    224\u001b[0m \u001b[39m# banned will store already seen data to avoid using it later\u001b[39;00m\n\u001b[1;32m    225\u001b[0m banned \u001b[39m=\u001b[39m torch\u001b[39m.\u001b[39marange(cut, device\u001b[39m=\u001b[39mh\u001b[39m.\u001b[39mdevice)\n",
      "\u001b[0;31mIndexError\u001b[0m: The shape of the mask [100, 1] at index 1 does not match the shape of the indexed tensor [100, 10000] at index 1"
     ]
    }
   ],
   "source": [
    "dim = 10000\n",
    "model = onlinehd.OnlineHD(classes, features, dim)\n",
    "model.fit(X, Y, epochs=20) "
   ]
  },
  {
   "cell_type": "code",
   "execution_count": null,
   "id": "bcdd5c0e",
   "metadata": {},
   "outputs": [],
   "source": [
    "preds = [model.predict(model.encode(x)) for x in X_test]\n",
    "acc = sklearn.metrics.accuracy_score(Y_test, preds)\n",
    "print(acc)"
   ]
  }
 ],
 "metadata": {
  "kernelspec": {
   "display_name": "Python 3.10.5 ('hd')",
   "language": "python",
   "name": "python3"
  },
  "language_info": {
   "codemirror_mode": {
    "name": "ipython",
    "version": 3
   },
   "file_extension": ".py",
   "mimetype": "text/x-python",
   "name": "python",
   "nbconvert_exporter": "python",
   "pygments_lexer": "ipython3",
   "version": "3.10.5"
  },
  "vscode": {
   "interpreter": {
    "hash": "0ef724c052a071b5cbb2af73fa4bb354cea126d905f88b77f607c8ed66c767f5"
   }
  }
 },
 "nbformat": 4,
 "nbformat_minor": 5
}
