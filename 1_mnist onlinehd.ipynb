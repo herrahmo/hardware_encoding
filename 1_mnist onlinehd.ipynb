{
 "cells": [
  {
   "cell_type": "code",
   "execution_count": 30,
   "id": "9361f187",
   "metadata": {},
   "outputs": [],
   "source": [
    "import torch\n",
    "import onlinehd\n",
    "import numpy as np\n",
    "import sklearn\n",
    "from sklearn import *\n",
    "import pandas as pd"
   ]
  },
  {
   "cell_type": "code",
   "execution_count": 31,
   "id": "6bb2c832",
   "metadata": {},
   "outputs": [
    {
     "name": "stdout",
     "output_type": "stream",
     "text": [
      "X train shape torch.Size([10000, 784]) Y train shape torch.Size([10000])\n",
      "X test shape torch.Size([2000, 784]) Y Test shape torch.Size([2000])\n"
     ]
    }
   ],
   "source": [
    "X = torch.Tensor(pd.read_csv(\"./data/MNIST/X_train_dataset\").to_numpy())\n",
    "X_test = torch.Tensor(pd.read_csv(\"./data/MNIST/X_test_dataset\").to_numpy())    \n",
    "Y = torch.Tensor(pd.read_csv(\"./data/MNIST/Y_train_dataset\").to_numpy()).long().reshape([10000,])\n",
    "Y_test = torch.Tensor(pd.read_csv(\"./data/MNIST/Y_test_dataset\").to_numpy()).reshape([2000,])\n",
    "\n",
    "print(\"X train shape\", X.shape, \"Y train shape\", Y.shape)\n",
    "print(\"X test shape\", X_test.shape, \"Y Test shape\", Y_test.shape)"
   ]
  },
  {
   "cell_type": "code",
   "execution_count": 32,
   "id": "a8d2d0e5",
   "metadata": {},
   "outputs": [
    {
     "name": "stdout",
     "output_type": "stream",
     "text": [
      "Number of classes 10\n",
      "Number of features 784\n"
     ]
    }
   ],
   "source": [
    "classes = len(np.unique(Y))\n",
    "features = X.shape[1]\n",
    "print(\"Number of classes\", classes) \n",
    "print('Number of features', features)"
   ]
  },
  {
   "cell_type": "code",
   "execution_count": 33,
   "id": "4f631edf",
   "metadata": {},
   "outputs": [],
   "source": [
    "dim = 10000\n",
    "model = onlinehd.OnlineHD(classes, features, dim)"
   ]
  },
  {
   "cell_type": "code",
   "execution_count": 34,
   "id": "aa85152f",
   "metadata": {},
   "outputs": [
    {
     "data": {
      "text/plain": [
       "<onlinehd.onlinehd.OnlineHD at 0x15cfb4bb0>"
      ]
     },
     "execution_count": 34,
     "metadata": {},
     "output_type": "execute_result"
    }
   ],
   "source": [
    "model.fit(X, Y, epochs=40, one_pass_fit=False) "
   ]
  },
  {
   "cell_type": "code",
   "execution_count": 35,
   "id": "bcdd5c0e",
   "metadata": {},
   "outputs": [
    {
     "name": "stdout",
     "output_type": "stream",
     "text": [
      "0.9355\n"
     ]
    }
   ],
   "source": [
    "X_test = model.encode(X_test)\n",
    "preds = model.predict(X_test, encoded=True)\n",
    "acc = sklearn.metrics.accuracy_score(Y_test.numpy(), preds)\n",
    "print(acc)"
   ]
  }
 ],
 "metadata": {
  "kernelspec": {
   "display_name": "Python 3.10.5 ('hd')",
   "language": "python",
   "name": "python3"
  },
  "language_info": {
   "codemirror_mode": {
    "name": "ipython",
    "version": 3
   },
   "file_extension": ".py",
   "mimetype": "text/x-python",
   "name": "python",
   "nbconvert_exporter": "python",
   "pygments_lexer": "ipython3",
   "version": "3.10.5"
  },
  "vscode": {
   "interpreter": {
    "hash": "0ef724c052a071b5cbb2af73fa4bb354cea126d905f88b77f607c8ed66c767f5"
   }
  }
 },
 "nbformat": 4,
 "nbformat_minor": 5
}
