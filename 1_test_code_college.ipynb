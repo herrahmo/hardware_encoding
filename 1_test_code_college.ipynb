{
 "cells": [
  {
   "cell_type": "code",
   "execution_count": 1,
   "id": "9361f187",
   "metadata": {},
   "outputs": [],
   "source": [
    "import torch\n",
    "import torchvision\n",
    "import onlinehd\n",
    "import torchvision.datasets as datasets\n",
    "import numpy as np\n",
    "import sklearn\n",
    "from sklearn import *\n",
    "import pandas as pd\n",
    "import matplotlib.pyplot as plt"
   ]
  },
  {
   "cell_type": "code",
   "execution_count": 2,
   "id": "6bb2c832",
   "metadata": {},
   "outputs": [],
   "source": [
    "# open/read the .csv dataset with panda\n",
    "coll = pd.read_csv(\"./data/data.csv\") "
   ]
  },
  {
   "cell_type": "code",
   "execution_count": 3,
   "id": "4d5ae710",
   "metadata": {},
   "outputs": [],
   "source": [
    "# make categorical variables numeric\n",
    "coll[\"type_school\"]= coll[\"type_school\"].replace(\"Academic\", 0)\n",
    "coll[\"type_school\"]= coll[\"type_school\"].replace(\"Vocational\", 1)\n",
    "coll[\"school_accreditation\"]= coll[\"school_accreditation\"].replace(\"A\", 0)\n",
    "coll[\"school_accreditation\"]= coll[\"school_accreditation\"].replace(\"B\", 1)\n",
    "coll[\"gender\"]= coll[\"gender\"].replace(\"Male\", 1)\n",
    "coll[\"gender\"]= coll[\"gender\"].replace(\"Female\", 0)\n",
    "coll[\"interest\"]= coll[\"interest\"].replace(\"Not Interested\", -2)\n",
    "coll[\"interest\"]= coll[\"interest\"].replace(\"Less Interested\", -1)\n",
    "coll[\"interest\"]= coll[\"interest\"].replace(\"Uncertain\", 0)\n",
    "coll[\"interest\"]= coll[\"interest\"].replace(\"Quiet Interested\", 1)\n",
    "coll[\"interest\"]= coll[\"interest\"].replace(\"Very Interested\", 2)\n",
    "coll[\"residence\"]= coll[\"residence\"].replace(\"Urban\", 1)\n",
    "coll[\"residence\"]= coll[\"residence\"].replace(\"Rural\", 0)\n",
    "coll[\"parent_was_in_college\"]= coll[\"parent_was_in_college\"].replace(True, 1)\n",
    "coll[\"parent_was_in_college\"]= coll[\"parent_was_in_college\"].replace(False, 0)\n",
    "coll[\"in_college\"]= coll[\"in_college\"].replace(\"TRUE\", 1)\n",
    "coll[\"in_college\"]= coll[\"in_college\"].replace(\"FALSE\", 0)"
   ]
  },
  {
   "cell_type": "code",
   "execution_count": 4,
   "id": "251ad773",
   "metadata": {},
   "outputs": [],
   "source": [
    "# make it a numpy array so numpy can read it\n",
    "coll = np.array(coll)\n",
    "\n",
    "# first 8 columns of matrix are considered parameters\n",
    "# the last one is considered to be the class\n",
    "X = np.array(coll[:, :10])\n",
    "Y = np.array(coll[:, 10])"
   ]
  },
  {
   "cell_type": "code",
   "execution_count": 5,
   "id": "7454dfd0",
   "metadata": {},
   "outputs": [
    {
     "name": "stdout",
     "output_type": "stream",
     "text": [
      "<class 'numpy.ndarray'> [1 1 0 0 0 54 3700000 99.6 83.5 1]\n",
      "X train shape torch.Size([750, 10]) Y train shape torch.Size([750])\n",
      "X test shape torch.Size([250, 10]) Y Test shape torch.Size([250])\n"
     ]
    }
   ],
   "source": [
    "X, X_test, Y, Y_test = sklearn.model_selection.train_test_split(X, Y)\n",
    "print(type(X[0]), X[0])\n",
    "X = torch.Tensor(X.astype('float64'))\n",
    "Y = torch.Tensor(Y.astype('int64'))\n",
    "X_test = torch.Tensor(X_test.astype('float64'))\n",
    "Y_test = torch.Tensor(Y_test.astype('int64'))\n",
    "\n",
    "print(\"X train shape\", X.shape, \"Y train shape\", Y.shape)\n",
    "print(\"X test shape\", X_test.shape, \"Y Test shape\", Y_test.shape)"
   ]
  },
  {
   "cell_type": "code",
   "execution_count": 6,
   "id": "41972d87",
   "metadata": {},
   "outputs": [],
   "source": [
    "from fhrr import FHRR_Model"
   ]
  },
  {
   "cell_type": "code",
   "execution_count": 7,
   "id": "a8d2d0e5",
   "metadata": {},
   "outputs": [
    {
     "name": "stdout",
     "output_type": "stream",
     "text": [
      "Number of classes 2 \n",
      "Number of features 10\n"
     ]
    }
   ],
   "source": [
    "classes = len(np.unique(Y))\n",
    "features = X.shape[1]\n",
    "print(\"Number of classes\", classes, '\\nNumber of features', features)"
   ]
  },
  {
   "cell_type": "code",
   "execution_count": 8,
   "id": "4f631edf",
   "metadata": {},
   "outputs": [
    {
     "name": "stdout",
     "output_type": "stream",
     "text": [
      "X train shape (750, 1000)\n"
     ]
    }
   ],
   "source": [
    "dim = 1000\n",
    "\n",
    "model = FHRR_Model(classes, features, dim)\n",
    "# model.set_train_set(X, Y)\n",
    "model.encode_set(X, Y)"
   ]
  },
  {
   "cell_type": "code",
   "execution_count": 9,
   "id": "5ac14e61",
   "metadata": {},
   "outputs": [
    {
     "name": "stdout",
     "output_type": "stream",
     "text": [
      "Training class hypervectors...\n",
      " [[ 17.4683487  -77.58674303j 355.72574122 -98.36097632j\n",
      "  262.01784034-177.7034103j  ... 232.08084628-186.74722424j\n",
      "  327.75455183-134.35662119j 223.91074178+188.31543898j]\n",
      " [-13.84187753 -80.83644954j 338.58336388-102.48080779j\n",
      "  240.95052475-185.14648508j ... 209.75962519-194.56909751j\n",
      "  309.44060636-139.98412365j 201.24731735+196.20299664j]]\n",
      "0.468\n"
     ]
    }
   ],
   "source": [
    "model.train()\n",
    "\n",
    "preds = [model.predict(model.encode(x)) for x in X_test]\n",
    "acc = sklearn.metrics.accuracy_score(Y_test, preds)\n",
    "print(acc)"
   ]
  },
  {
   "cell_type": "code",
   "execution_count": 10,
   "id": "e78b10fc",
   "metadata": {},
   "outputs": [
    {
     "name": "stdout",
     "output_type": "stream",
     "text": [
      "0.468\n"
     ]
    }
   ],
   "source": [
    "model.retrain(100)\n",
    "\n",
    "preds = [model.predict(model.encode(x)) for x in X_test]\n",
    "acc = sklearn.metrics.accuracy_score(Y_test, preds)\n",
    "print(acc)"
   ]
  }
 ],
 "metadata": {
  "kernelspec": {
   "display_name": "Python 3.10.5 ('hd')",
   "language": "python",
   "name": "python3"
  },
  "language_info": {
   "codemirror_mode": {
    "name": "ipython",
    "version": 3
   },
   "file_extension": ".py",
   "mimetype": "text/x-python",
   "name": "python",
   "nbconvert_exporter": "python",
   "pygments_lexer": "ipython3",
   "version": "3.10.5"
  },
  "vscode": {
   "interpreter": {
    "hash": "0ef724c052a071b5cbb2af73fa4bb354cea126d905f88b77f607c8ed66c767f5"
   }
  }
 },
 "nbformat": 4,
 "nbformat_minor": 5
}
