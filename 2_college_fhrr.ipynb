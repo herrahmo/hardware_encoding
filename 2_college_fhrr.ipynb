{
 "cells": [
  {
   "cell_type": "code",
   "execution_count": 1,
   "id": "9361f187",
   "metadata": {},
   "outputs": [],
   "source": [
    "import torch\n",
    "import numpy as np\n",
    "import sklearn\n",
    "from sklearn import *\n",
    "import pandas as pd\n",
    "import matplotlib.pyplot as plt\n",
    "from fhrr import FHRR_Model\n",
    "from sklearn.metrics import confusion_matrix"
   ]
  },
  {
   "cell_type": "code",
   "execution_count": 2,
   "id": "251ad773",
   "metadata": {},
   "outputs": [],
   "source": [
    "coll = np.array(pd.read_csv(\"./data/parsed_college_data.csv\"))\n",
    "# first 8 columns of matrix are considered parameters\n",
    "# the last one is considered to be the class\n",
    "X = np.array(coll[:, :10])\n",
    "Y = np.array(coll[:, 10])"
   ]
  },
  {
   "cell_type": "code",
   "execution_count": 3,
   "id": "7454dfd0",
   "metadata": {},
   "outputs": [
    {
     "name": "stdout",
     "output_type": "stream",
     "text": [
      "<class 'numpy.ndarray'> [0 1 1 0 0 48 7700000 67.0 88.34 1]\n",
      "X train shape torch.Size([750, 10]) Y train shape torch.Size([750])\n",
      "X test shape torch.Size([250, 10]) Y Test shape torch.Size([250])\n"
     ]
    }
   ],
   "source": [
    "X, X_test, Y, Y_test = sklearn.model_selection.train_test_split(X, Y)\n",
    "print(type(X[0]), X[0])\n",
    "X = torch.Tensor(X.astype('float64'))\n",
    "Y = torch.Tensor(Y.astype('int64'))\n",
    "X_test = torch.Tensor(X_test.astype('float64'))\n",
    "Y_test = torch.Tensor(Y_test.astype('int64'))\n",
    "\n",
    "print(\"X train shape\", X.shape, \"Y train shape\", Y.shape)\n",
    "print(\"X test shape\", X_test.shape, \"Y Test shape\", Y_test.shape)"
   ]
  },
  {
   "cell_type": "code",
   "execution_count": 4,
   "id": "41972d87",
   "metadata": {},
   "outputs": [
    {
     "name": "stdout",
     "output_type": "stream",
     "text": [
      "Number of classes 2 \n",
      "Number of features 10\n"
     ]
    }
   ],
   "source": [
    "classes = len(np.unique(Y))\n",
    "features = X.shape[1]\n",
    "print(\"Number of classes\", classes, '\\nNumber of features', features)\n",
    "dim = 1000"
   ]
  },
  {
   "cell_type": "code",
   "execution_count": 5,
   "id": "5ac14e61",
   "metadata": {},
   "outputs": [
    {
     "name": "stdout",
     "output_type": "stream",
     "text": [
      "X train shape (750, 1000)\n",
      "One pass training 0.672\n",
      "[[74 46]\n",
      " [36 94]]\n",
      "Iterative training 0.48\n",
      "[[57 63]\n",
      " [67 63]]\n"
     ]
    }
   ],
   "source": [
    "model = FHRR_Model(classes, features, dim, pw='uniform')\n",
    "# model.set_train_set(X, Y)\n",
    "model.encode_set(X, Y)\n",
    "\n",
    "model.train()\n",
    "\n",
    "preds = [model.predict(model.encode(x)) for x in X_test]\n",
    "acc = sklearn.metrics.accuracy_score(Y_test, preds)\n",
    "print(\"One pass training\", acc)\n",
    "print(confusion_matrix(Y_test, preds))\n",
    "\n",
    "model.retrain(40)\n",
    "preds = [model.predict(model.encode(x)) for x in X_test]\n",
    "acc = sklearn.metrics.accuracy_score(Y_test, preds)\n",
    "print(\"Iterative training\", acc)\n",
    "print(confusion_matrix(Y_test, preds))"
   ]
  },
  {
   "cell_type": "code",
   "execution_count": 6,
   "id": "b6fe1e20",
   "metadata": {},
   "outputs": [
    {
     "name": "stdout",
     "output_type": "stream",
     "text": [
      "X train shape (750, 1000)\n",
      "One pass training 0.672\n",
      "[[71 49]\n",
      " [33 97]]\n",
      "Iterative training 0.504\n",
      "[[58 62]\n",
      " [62 68]]\n"
     ]
    }
   ],
   "source": [
    "model = FHRR_Model(classes, features, dim, pw='normal')\n",
    "# model.set_train_set(X, Y)\n",
    "model.encode_set(X, Y)\n",
    "\n",
    "model.train()\n",
    "\n",
    "preds = [model.predict(model.encode(x)) for x in X_test]\n",
    "acc = sklearn.metrics.accuracy_score(Y_test, preds)\n",
    "print(\"One pass training\", acc)\n",
    "print(confusion_matrix(Y_test, preds))\n",
    "model.retrain(200)\n",
    "\n",
    "preds = [model.predict(model.encode(x)) for x in X_test]\n",
    "acc = sklearn.metrics.accuracy_score(Y_test, preds)\n",
    "print(\"Iterative training\", acc)\n",
    "print(confusion_matrix(Y_test, preds))"
   ]
  }
 ],
 "metadata": {
  "kernelspec": {
   "display_name": "Python 3.10.5 ('hd')",
   "language": "python",
   "name": "python3"
  },
  "language_info": {
   "codemirror_mode": {
    "name": "ipython",
    "version": 3
   },
   "file_extension": ".py",
   "mimetype": "text/x-python",
   "name": "python",
   "nbconvert_exporter": "python",
   "pygments_lexer": "ipython3",
   "version": "3.10.5"
  },
  "vscode": {
   "interpreter": {
    "hash": "0ef724c052a071b5cbb2af73fa4bb354cea126d905f88b77f607c8ed66c767f5"
   }
  }
 },
 "nbformat": 4,
 "nbformat_minor": 5
}
