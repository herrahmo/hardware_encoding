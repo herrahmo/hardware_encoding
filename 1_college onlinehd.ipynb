{
 "cells": [
  {
   "cell_type": "code",
   "execution_count": 1,
   "id": "9361f187",
   "metadata": {},
   "outputs": [],
   "source": [
    "import torch\n",
    "import onlinehd\n",
    "import torchvision.datasets as datasets\n",
    "import numpy as np\n",
    "import sklearn\n",
    "from sklearn import *\n",
    "import pandas as pd\n",
    "import matplotlib.pyplot as plt"
   ]
  },
  {
   "cell_type": "code",
   "execution_count": 2,
   "id": "6bb2c832",
   "metadata": {},
   "outputs": [],
   "source": [
    "# open/read the .csv dataset with panda\n",
    "coll = pd.read_csv(\"./data/data.csv\") "
   ]
  },
  {
   "cell_type": "code",
   "execution_count": 3,
   "id": "4d5ae710",
   "metadata": {},
   "outputs": [],
   "source": [
    "# make categorical variables numeric\n",
    "coll[\"type_school\"]= coll[\"type_school\"].replace(\"Academic\", 0)\n",
    "coll[\"type_school\"]= coll[\"type_school\"].replace(\"Vocational\", 1)\n",
    "coll[\"school_accreditation\"]= coll[\"school_accreditation\"].replace(\"A\", 0)\n",
    "coll[\"school_accreditation\"]= coll[\"school_accreditation\"].replace(\"B\", 1)\n",
    "coll[\"gender\"]= coll[\"gender\"].replace(\"Male\", 1)\n",
    "coll[\"gender\"]= coll[\"gender\"].replace(\"Female\", 0)\n",
    "coll[\"interest\"]= coll[\"interest\"].replace(\"Not Interested\", -2)\n",
    "coll[\"interest\"]= coll[\"interest\"].replace(\"Less Interested\", -1)\n",
    "coll[\"interest\"]= coll[\"interest\"].replace(\"Uncertain\", 0)\n",
    "coll[\"interest\"]= coll[\"interest\"].replace(\"Quiet Interested\", 1)\n",
    "coll[\"interest\"]= coll[\"interest\"].replace(\"Very Interested\", 2)\n",
    "coll[\"residence\"]= coll[\"residence\"].replace(\"Urban\", 1)\n",
    "coll[\"residence\"]= coll[\"residence\"].replace(\"Rural\", 0)\n",
    "coll[\"parent_was_in_college\"]= coll[\"parent_was_in_college\"].replace(True, 1)\n",
    "coll[\"parent_was_in_college\"]= coll[\"parent_was_in_college\"].replace(False, 0)\n",
    "coll[\"in_college\"]= coll[\"in_college\"].replace(\"TRUE\", 1)\n",
    "coll[\"in_college\"]= coll[\"in_college\"].replace(\"FALSE\", 0)"
   ]
  },
  {
   "cell_type": "code",
   "execution_count": 4,
   "id": "251ad773",
   "metadata": {},
   "outputs": [],
   "source": [
    "# make it a numpy array so numpy can read it\n",
    "coll = np.array(coll)\n",
    "\n",
    "# first 8 columns of matrix are considered parameters\n",
    "# the last one is considered to be the class\n",
    "X = np.array(coll[:, :10])\n",
    "Y = np.array(coll[:, 10])"
   ]
  },
  {
   "cell_type": "code",
   "execution_count": 5,
   "id": "7454dfd0",
   "metadata": {},
   "outputs": [
    {
     "name": "stdout",
     "output_type": "stream",
     "text": [
      "<class 'numpy.ndarray'> [1 1 1 2 0 48 6440000 71.1 83.05 1]\n",
      "X train shape torch.Size([750, 10]) Y train shape torch.Size([750])\n",
      "X test shape torch.Size([250, 10]) Y Test shape torch.Size([250])\n"
     ]
    }
   ],
   "source": [
    "X, X_test, Y, Y_test = sklearn.model_selection.train_test_split(X, Y)\n",
    "X = torch.Tensor(X.astype('float64'))\n",
    "Y = torch.Tensor(Y.astype('int64'))\n",
    "X_test = torch.Tensor(X_test.astype('float64'))\n",
    "Y_test = torch.Tensor(Y_test.astype('int64'))\n",
    "\n",
    "print(\"X train shape\", X.shape, \"Y train shape\", Y.shape)\n",
    "print(\"X test shape\", X_test.shape, \"Y Test shape\", Y_test.shape)"
   ]
  },
  {
   "cell_type": "code",
   "execution_count": 6,
   "id": "41972d87",
   "metadata": {},
   "outputs": [],
   "source": [
    "from fhrr import FHRR_Model"
   ]
  },
  {
   "cell_type": "code",
   "execution_count": 7,
   "id": "a8d2d0e5",
   "metadata": {},
   "outputs": [
    {
     "name": "stdout",
     "output_type": "stream",
     "text": [
      "Number of classes 2 \n",
      "Number of features 10\n"
     ]
    }
   ],
   "source": [
    "classes = len(np.unique(Y))\n",
    "features = X.shape[1]\n",
    "print(\"Number of classes\", classes, '\\nNumber of features', features)"
   ]
  },
  {
   "cell_type": "code",
   "execution_count": 8,
   "id": "4f631edf",
   "metadata": {},
   "outputs": [
    {
     "name": "stderr",
     "output_type": "stream",
     "text": [
      "/opt/homebrew/Caskroom/miniforge/base/envs/hd/lib/python3.10/site-packages/onlinehd/encoder.py:61: UserWarning: An output with one or more elements was resized since it had shape [8, 10000], which does not match the required output shape [6, 10000]. This behavior is deprecated, and in a future PyTorch release outputs will not be resized unless they have zero elements. You can explicitly reuse an out tensor t by resizing it, inplace, to zero elements with t.resize_(0). (Triggered internally at  /Users/runner/work/pytorch/pytorch/pytorch/aten/src/ATen/native/Resize.cpp:24.)\n",
      "  torch.matmul(x[i:i+bsize], self.basis.T, out=temp)\n"
     ]
    },
    {
     "ename": "IndexError",
     "evalue": "Can only index tensors with integral scalars",
     "output_type": "error",
     "traceback": [
      "\u001b[0;31m---------------------------------------------------------------------------\u001b[0m",
      "\u001b[0;31mIndexError\u001b[0m                                Traceback (most recent call last)",
      "\u001b[1;32m/Users/haerba/Desktop/hardware_encoding/1_college onlinehd.ipynb Cell 8'\u001b[0m in \u001b[0;36m<cell line: 3>\u001b[0;34m()\u001b[0m\n\u001b[1;32m      <a href='vscode-notebook-cell:/Users/haerba/Desktop/hardware_encoding/1_college%20onlinehd.ipynb#ch0000007?line=0'>1</a>\u001b[0m dim \u001b[39m=\u001b[39m \u001b[39m10000\u001b[39m\n\u001b[1;32m      <a href='vscode-notebook-cell:/Users/haerba/Desktop/hardware_encoding/1_college%20onlinehd.ipynb#ch0000007?line=1'>2</a>\u001b[0m model \u001b[39m=\u001b[39m onlinehd\u001b[39m.\u001b[39mOnlineHD(classes, features, dim)\n\u001b[0;32m----> <a href='vscode-notebook-cell:/Users/haerba/Desktop/hardware_encoding/1_college%20onlinehd.ipynb#ch0000007?line=2'>3</a>\u001b[0m model\u001b[39m.\u001b[39;49mfit(X, Y, epochs\u001b[39m=\u001b[39;49m\u001b[39m20\u001b[39;49m)\n",
      "File \u001b[0;32m/opt/homebrew/Caskroom/miniforge/base/envs/hd/lib/python3.10/site-packages/onlinehd/onlinehd.py:183\u001b[0m, in \u001b[0;36mOnlineHD.fit\u001b[0;34m(self, x, y, encoded, lr, epochs, batch_size, one_pass_fit, bootstrap)\u001b[0m\n\u001b[1;32m    181\u001b[0m h \u001b[39m=\u001b[39m x \u001b[39mif\u001b[39;00m encoded \u001b[39melse\u001b[39;00m \u001b[39mself\u001b[39m\u001b[39m.\u001b[39mencode(x)\n\u001b[1;32m    182\u001b[0m \u001b[39mif\u001b[39;00m one_pass_fit:\n\u001b[0;32m--> 183\u001b[0m     \u001b[39mself\u001b[39;49m\u001b[39m.\u001b[39;49m_one_pass_fit(h, y, lr, bootstrap)\n\u001b[1;32m    184\u001b[0m \u001b[39mself\u001b[39m\u001b[39m.\u001b[39m_iterative_fit(h, y, lr, epochs, batch_size)\n\u001b[1;32m    185\u001b[0m \u001b[39mreturn\u001b[39;00m \u001b[39mself\u001b[39m\n",
      "File \u001b[0;32m/opt/homebrew/Caskroom/miniforge/base/envs/hd/lib/python3.10/site-packages/onlinehd/onlinehd.py:236\u001b[0m, in \u001b[0;36mOnlineHD._one_pass_fit\u001b[0;34m(self, h, y, lr, bootstrap)\u001b[0m\n\u001b[1;32m    234\u001b[0m h_ \u001b[39m=\u001b[39m h[todo]\n\u001b[1;32m    235\u001b[0m y_ \u001b[39m=\u001b[39m y[todo]\n\u001b[0;32m--> 236\u001b[0m _fasthd\u001b[39m.\u001b[39;49monepass(h_, y_, \u001b[39mself\u001b[39;49m\u001b[39m.\u001b[39;49mmodel, lr)\n",
      "\u001b[0;31mIndexError\u001b[0m: Can only index tensors with integral scalars"
     ]
    }
   ],
   "source": [
    "dim = 10000\n",
    "model = onlinehd.OnlineHD(classes, features, dim)\n",
    "model.fit(X, Y, epochs=20) "
   ]
  },
  {
   "cell_type": "code",
   "execution_count": null,
   "id": "5ac14e61",
   "metadata": {},
   "outputs": [
    {
     "name": "stdout",
     "output_type": "stream",
     "text": [
      "Training class hypervectors...\n",
      " [[ 17.4683487  -77.58674303j 355.72574122 -98.36097632j\n",
      "  262.01784034-177.7034103j  ... 232.08084628-186.74722424j\n",
      "  327.75455183-134.35662119j 223.91074178+188.31543898j]\n",
      " [-13.84187753 -80.83644954j 338.58336388-102.48080779j\n",
      "  240.95052475-185.14648508j ... 209.75962519-194.56909751j\n",
      "  309.44060636-139.98412365j 201.24731735+196.20299664j]]\n",
      "0.468\n"
     ]
    }
   ],
   "source": [
    "preds = [model.predict(model.encode(x)) for x in X_test]\n",
    "acc = sklearn.metrics.accuracy_score(Y_test, preds)\n",
    "print(acc)"
   ]
  }
 ],
 "metadata": {
  "kernelspec": {
   "display_name": "Python 3.10.5 ('hd')",
   "language": "python",
   "name": "python3"
  },
  "language_info": {
   "codemirror_mode": {
    "name": "ipython",
    "version": 3
   },
   "file_extension": ".py",
   "mimetype": "text/x-python",
   "name": "python",
   "nbconvert_exporter": "python",
   "pygments_lexer": "ipython3",
   "version": "3.10.5"
  },
  "vscode": {
   "interpreter": {
    "hash": "0ef724c052a071b5cbb2af73fa4bb354cea126d905f88b77f607c8ed66c767f5"
   }
  }
 },
 "nbformat": 4,
 "nbformat_minor": 5
}
