{
 "cells": [
  {
   "cell_type": "code",
   "execution_count": 7,
   "id": "9361f187",
   "metadata": {},
   "outputs": [],
   "source": [
    "import torch\n",
    "import onlinehd\n",
    "import torchvision.datasets as datasets\n",
    "import numpy as np\n",
    "import sklearn\n",
    "from sklearn import *\n",
    "import pandas as pd\n",
    "import matplotlib.pyplot as plt"
   ]
  },
  {
   "cell_type": "code",
   "execution_count": 8,
   "id": "6bb2c832",
   "metadata": {},
   "outputs": [],
   "source": [
    "# open/read the .csv dataset with panda\n",
    "coll = pd.read_csv(\"./data/original_college_data.csv\") "
   ]
  },
  {
   "cell_type": "code",
   "execution_count": 9,
   "id": "4d5ae710",
   "metadata": {},
   "outputs": [],
   "source": [
    "# make categorical variables numeric\n",
    "coll[\"type_school\"]= coll[\"type_school\"].replace(\"Academic\", 0)\n",
    "coll[\"type_school\"]= coll[\"type_school\"].replace(\"Vocational\", 1)\n",
    "coll[\"school_accreditation\"]= coll[\"school_accreditation\"].replace(\"A\", 0)\n",
    "coll[\"school_accreditation\"]= coll[\"school_accreditation\"].replace(\"B\", 1)\n",
    "coll[\"gender\"]= coll[\"gender\"].replace(\"Male\", 1)\n",
    "coll[\"gender\"]= coll[\"gender\"].replace(\"Female\", 0)\n",
    "coll[\"interest\"]= coll[\"interest\"].replace(\"Not Interested\", -2)\n",
    "coll[\"interest\"]= coll[\"interest\"].replace(\"Less Interested\", -1)\n",
    "coll[\"interest\"]= coll[\"interest\"].replace(\"Uncertain\", 0)\n",
    "coll[\"interest\"]= coll[\"interest\"].replace(\"Quiet Interested\", 1)\n",
    "coll[\"interest\"]= coll[\"interest\"].replace(\"Very Interested\", 2)\n",
    "coll[\"residence\"]= coll[\"residence\"].replace(\"Urban\", 1)\n",
    "coll[\"residence\"]= coll[\"residence\"].replace(\"Rural\", 0)\n",
    "coll[\"parent_was_in_college\"]= coll[\"parent_was_in_college\"].replace(True, 1)\n",
    "coll[\"parent_was_in_college\"]= coll[\"parent_was_in_college\"].replace(False, 0)\n",
    "coll[\"in_college\"]= coll[\"in_college\"].replace(\"TRUE\", 1)\n",
    "coll[\"in_college\"]= coll[\"in_college\"].replace(\"FALSE\", 0)"
   ]
  },
  {
   "cell_type": "code",
   "execution_count": 10,
   "id": "251ad773",
   "metadata": {},
   "outputs": [],
   "source": [
    "# make it a numpy array so numpy can read it\n",
    "coll = np.array(coll)\n",
    "\n",
    "# first 8 columns of matrix are considered parameters\n",
    "# the last one is considered to be the class\n",
    "X = np.array(coll[:, :10])\n",
    "Y = np.array(coll[:, 10])"
   ]
  },
  {
   "cell_type": "code",
   "execution_count": 11,
   "id": "7454dfd0",
   "metadata": {},
   "outputs": [
    {
     "name": "stdout",
     "output_type": "stream",
     "text": [
      "X train shape torch.Size([750, 10]) Y train shape torch.Size([750])\n",
      "X test shape torch.Size([250, 10]) Y Test shape torch.Size([250])\n"
     ]
    }
   ],
   "source": [
    "X, X_test, Y, Y_test = sklearn.model_selection.train_test_split(X, Y)\n",
    "X = torch.Tensor(X.astype('float64'))\n",
    "Y = torch.Tensor(Y.astype('int')).long()\n",
    "X_test = torch.Tensor(X_test.astype('float64'))\n",
    "Y_test = torch.Tensor(Y_test.astype('int64')).long()\n",
    "\n",
    "print(\"X train shape\", X.shape, \"Y train shape\", Y.shape)\n",
    "print(\"X test shape\", X_test.shape, \"Y Test shape\", Y_test.shape)"
   ]
  },
  {
   "cell_type": "code",
   "execution_count": 12,
   "id": "41972d87",
   "metadata": {},
   "outputs": [],
   "source": [
    "from fhrr import FHRR_Model"
   ]
  },
  {
   "cell_type": "code",
   "execution_count": 13,
   "id": "a8d2d0e5",
   "metadata": {},
   "outputs": [
    {
     "name": "stdout",
     "output_type": "stream",
     "text": [
      "Number of classes 2 \n",
      "Number of features 10\n"
     ]
    }
   ],
   "source": [
    "classes = len(np.unique(Y))\n",
    "features = X.shape[1]\n",
    "print(\"Number of classes\", classes, '\\nNumber of features', features)"
   ]
  },
  {
   "cell_type": "code",
   "execution_count": 14,
   "id": "4f631edf",
   "metadata": {},
   "outputs": [
    {
     "name": "stderr",
     "output_type": "stream",
     "text": [
      "/opt/homebrew/Caskroom/miniforge/base/envs/hd/lib/python3.10/site-packages/onlinehd/encoder.py:61: UserWarning: An output with one or more elements was resized since it had shape [8, 10000], which does not match the required output shape [6, 10000]. This behavior is deprecated, and in a future PyTorch release outputs will not be resized unless they have zero elements. You can explicitly reuse an out tensor t by resizing it, inplace, to zero elements with t.resize_(0). (Triggered internally at  /Users/runner/work/pytorch/pytorch/pytorch/aten/src/ATen/native/Resize.cpp:24.)\n",
      "  torch.matmul(x[i:i+bsize], self.basis.T, out=temp)\n"
     ]
    },
    {
     "data": {
      "text/plain": [
       "<onlinehd.onlinehd.OnlineHD at 0x165473820>"
      ]
     },
     "execution_count": 14,
     "metadata": {},
     "output_type": "execute_result"
    }
   ],
   "source": [
    "dim = 10000\n",
    "model = onlinehd.OnlineHD(classes, features, dim)\n",
    "model.fit(X, Y, epochs=100) "
   ]
  },
  {
   "cell_type": "code",
   "execution_count": 15,
   "id": "5ac14e61",
   "metadata": {},
   "outputs": [
    {
     "name": "stdout",
     "output_type": "stream",
     "text": [
      "0.676\n"
     ]
    },
    {
     "name": "stderr",
     "output_type": "stream",
     "text": [
      "/opt/homebrew/Caskroom/miniforge/base/envs/hd/lib/python3.10/site-packages/onlinehd/encoder.py:61: UserWarning: An output with one or more elements was resized since it had shape [3, 10000], which does not match the required output shape [1, 10000]. This behavior is deprecated, and in a future PyTorch release outputs will not be resized unless they have zero elements. You can explicitly reuse an out tensor t by resizing it, inplace, to zero elements with t.resize_(0). (Triggered internally at  /Users/runner/work/pytorch/pytorch/pytorch/aten/src/ATen/native/Resize.cpp:24.)\n",
      "  torch.matmul(x[i:i+bsize], self.basis.T, out=temp)\n"
     ]
    }
   ],
   "source": [
    "X_test = model.encode(X_test)\n",
    "preds = model.predict(X_test, encoded=True)\n",
    "acc = sklearn.metrics.accuracy_score(Y_test.numpy(), preds)\n",
    "print(acc)"
   ]
  }
 ],
 "metadata": {
  "kernelspec": {
   "display_name": "Python 3.10.5 ('hd')",
   "language": "python",
   "name": "python3"
  },
  "language_info": {
   "codemirror_mode": {
    "name": "ipython",
    "version": 3
   },
   "file_extension": ".py",
   "mimetype": "text/x-python",
   "name": "python",
   "nbconvert_exporter": "python",
   "pygments_lexer": "ipython3",
   "version": "3.10.5"
  },
  "vscode": {
   "interpreter": {
    "hash": "0ef724c052a071b5cbb2af73fa4bb354cea126d905f88b77f607c8ed66c767f5"
   }
  }
 },
 "nbformat": 4,
 "nbformat_minor": 5
}
