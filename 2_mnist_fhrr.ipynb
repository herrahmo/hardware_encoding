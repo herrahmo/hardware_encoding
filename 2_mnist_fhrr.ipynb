{
 "cells": [
  {
   "cell_type": "code",
   "execution_count": 6,
   "id": "9361f187",
   "metadata": {},
   "outputs": [],
   "source": [
    "import torch\n",
    "import numpy as np\n",
    "import sklearn\n",
    "from sklearn import *\n",
    "import pandas as pd\n",
    "from fhrr import FHRR_Model\n",
    "from sklearn.metrics import confusion_matrix"
   ]
  },
  {
   "cell_type": "code",
   "execution_count": 2,
   "id": "6bb2c832",
   "metadata": {},
   "outputs": [
    {
     "name": "stdout",
     "output_type": "stream",
     "text": [
      "X train shape (10000, 1000) Y train shape (10000, 1)\n",
      "X test shape (2000, 1000) Y Test shape (2000, 1)\n"
     ]
    }
   ],
   "source": [
    "encoded = False\n",
    "if encoded:\n",
    "    X = pd.read_csv(\"./data/MNIST/X_train_encoded\").to_numpy().astype('complex_')\n",
    "    X_test = pd.read_csv(\"./data/MNIST/X_test_encoded\").to_numpy().astype('complex_')\n",
    "else:\n",
    "    X = torch.Tensor(pd.read_csv(\"./data/MNIST/X_train_dataset\").to_numpy())\n",
    "    X_test = torch.Tensor(pd.read_csv(\"./data/MNIST/X_test_dataset\").to_numpy())\n",
    "    \n",
    "Y = pd.read_csv(\"./data/MNIST/Y_train_dataset\").to_numpy()\n",
    "Y_test = pd.read_csv(\"./data/MNIST/Y_test_dataset\").to_numpy()\n",
    "\n",
    "print(\"X train shape\", X.shape, \"Y train shape\", Y.shape)\n",
    "print(\"X test shape\", X_test.shape, \"Y Test shape\", Y_test.shape)"
   ]
  },
  {
   "cell_type": "code",
   "execution_count": 3,
   "id": "a8d2d0e5",
   "metadata": {},
   "outputs": [
    {
     "name": "stdout",
     "output_type": "stream",
     "text": [
      "Number of classes 10 \n",
      "Number of features 1000\n"
     ]
    }
   ],
   "source": [
    "classes = len(np.unique(Y))\n",
    "features = X.shape[1]\n",
    "print(\"Number of classes\", classes, '\\nNumber of features', features)"
   ]
  },
  {
   "cell_type": "code",
   "execution_count": 4,
   "id": "4f631edf",
   "metadata": {},
   "outputs": [
    {
     "name": "stdout",
     "output_type": "stream",
     "text": [
      "[[779380.91813019+1048.28195453j 779060.35357104 +334.56896918j\n",
      "  779340.12287054-1079.71995723j ... 779236.36985399 +846.921962j\n",
      "  779075.1728473  -561.63316958j 779265.24485647 -100.0614092j ]\n",
      " [868424.64596731+1232.93982324j 868427.68180904 +730.92731176j\n",
      "  868608.05816783+1797.22714311j ... 868459.31255203 -966.06805401j\n",
      "  868455.92723499  +31.52292264j 868527.8408687 +1272.28856572j]\n",
      " [823884.93920887 +955.00622719j 823821.93083135 +685.48960434j\n",
      "  823854.34722863 +215.1506294j  ... 823861.58939576 -141.1240827j\n",
      "  823700.3658901 +1079.76937658j 823871.86379103+1452.61291625j]\n",
      " ...\n",
      " [810443.40610907 -387.04452544j 810336.02881453-1232.75425924j\n",
      "  810693.9314105 -1070.08655448j ... 810615.12514576-1092.26230442j\n",
      "  810426.62354203 -937.96202774j 810692.26888644 -125.23682441j]\n",
      " [784672.18239951 +319.89068407j 784609.52504912 -857.88306563j\n",
      "  784801.98986768 -263.88642389j ... 784807.32924645  -14.65991759j\n",
      "  784663.34667129 -644.84432941j 784809.19991637+1759.14371873j]\n",
      " [766632.11764623 +790.40983587j 766589.9388352 -1163.63754954j\n",
      "  766812.94406087-1307.30972256j ... 766834.28710798-1176.63200997j\n",
      "  766675.53667719 -922.76989505j 766866.75240122 +686.16792794j]]\n",
      "One pass training 0.1125\n",
      "[[  0 191   0   0   0   0   0   0   0   0]\n",
      " [  0 225   0   0   0   0   0   0   0   0]\n",
      " [  0 180   0   0   0   0   0   0   0   0]\n",
      " [  0 210   0   0   0   0   0   0   0   0]\n",
      " [  0 203   0   0   0   0   0   0   0   0]\n",
      " [  0 203   0   0   0   0   0   0   0   0]\n",
      " [  0 182   0   0   0   0   0   0   0   0]\n",
      " [  0 201   0   0   0   0   0   0   0   0]\n",
      " [  0 207   0   0   0   0   0   0   0   0]\n",
      " [  0 198   0   0   0   0   0   0   0   0]]\n",
      "Iterative training 0.1125\n",
      "[[  0 191   0   0   0   0   0   0   0   0]\n",
      " [  0 225   0   0   0   0   0   0   0   0]\n",
      " [  0 180   0   0   0   0   0   0   0   0]\n",
      " [  0 210   0   0   0   0   0   0   0   0]\n",
      " [  0 203   0   0   0   0   0   0   0   0]\n",
      " [  0 203   0   0   0   0   0   0   0   0]\n",
      " [  0 182   0   0   0   0   0   0   0   0]\n",
      " [  0 201   0   0   0   0   0   0   0   0]\n",
      " [  0 207   0   0   0   0   0   0   0   0]\n",
      " [  0 198   0   0   0   0   0   0   0   0]]\n"
     ]
    }
   ],
   "source": [
    "dim = 1000\n",
    "model = FHRR_Model(classes, features, dim, pw='uniform')\n",
    "\n",
    "if encoded:\n",
    "    model.set_train_set(X, Y) \n",
    "    \n",
    "    model.train()\n",
    "else:   \n",
    "    model.encode_set(X, Y)\n",
    "    X = model.get_encoded_set()\n",
    "    df = pd.DataFrame(X) #convert to a dataframe\n",
    "    df.to_csv(\"./data/MNIST/X_train_encoded\",index=False) #save to file\n",
    "    \n",
    "    X_test = model.test_encode(X_test)\n",
    "    df = pd.DataFrame(X_test) #convert to a dataframe\n",
    "    df.to_csv(\"./data/MNIST/X_test_encoded\",index=False) #save to file\n",
    "    \n",
    "    model.train()\n",
    "\n",
    "preds = [model.predict(x) for x in X_test]\n",
    "acc = sklearn.metrics.accuracy_score(Y_test, preds)\n",
    "print(\"One pass training\", acc)\n",
    "print(confusion_matrix(Y_test, preds))\n",
    "model.retrain(20)\n",
    "preds = [model.predict(x) for x in X_test]\n",
    "acc = sklearn.metrics.accuracy_score(Y_test, preds)\n",
    "print(\"Iterative training\", acc)\n",
    "print(confusion_matrix(Y_test, preds))"
   ]
  },
  {
   "cell_type": "code",
   "execution_count": 5,
   "id": "bbe835cb",
   "metadata": {},
   "outputs": [
    {
     "name": "stdout",
     "output_type": "stream",
     "text": [
      "[[779380.91813019+1048.28195453j 779060.35357104 +334.56896918j\n",
      "  779340.12287054-1079.71995723j ... 779236.36985399 +846.921962j\n",
      "  779075.1728473  -561.63316958j 779265.24485647 -100.0614092j ]\n",
      " [868424.64596731+1232.93982324j 868427.68180904 +730.92731176j\n",
      "  868608.05816783+1797.22714311j ... 868459.31255203 -966.06805401j\n",
      "  868455.92723499  +31.52292264j 868527.8408687 +1272.28856572j]\n",
      " [823884.93920887 +955.00622719j 823821.93083135 +685.48960434j\n",
      "  823854.34722863 +215.1506294j  ... 823861.58939576 -141.1240827j\n",
      "  823700.3658901 +1079.76937658j 823871.86379103+1452.61291625j]\n",
      " ...\n",
      " [810443.40610907 -387.04452544j 810336.02881453-1232.75425924j\n",
      "  810693.9314105 -1070.08655448j ... 810615.12514576-1092.26230442j\n",
      "  810426.62354203 -937.96202774j 810692.26888644 -125.23682441j]\n",
      " [784672.18239951 +319.89068407j 784609.52504912 -857.88306563j\n",
      "  784801.98986768 -263.88642389j ... 784807.32924645  -14.65991759j\n",
      "  784663.34667129 -644.84432941j 784809.19991637+1759.14371873j]\n",
      " [766632.11764623 +790.40983587j 766589.9388352 -1163.63754954j\n",
      "  766812.94406087-1307.30972256j ... 766834.28710798-1176.63200997j\n",
      "  766675.53667719 -922.76989505j 766866.75240122 +686.16792794j]]\n",
      "One pass training 0.1125\n",
      "Iterative training 0.1125\n"
     ]
    }
   ],
   "source": [
    "dim = 1000\n",
    "\n",
    "model = FHRR_Model(classes, features, dim, pw='normal')\n",
    "\n",
    "if encoded:\n",
    "    model.set_train_set(X, Y) \n",
    "    model.train()\n",
    "else:   \n",
    "    model.encode_set(X, Y)\n",
    "    X = model.get_encoded_set()\n",
    "    df = pd.DataFrame(x) #convert to a dataframe\n",
    "    df.to_csv(\"./data/MNIST/X_train_encoded\",index=False) #save to file\n",
    "    \n",
    "    X_test = model.test_encode(X_test)\n",
    "    df = pd.DataFrame(x_test) #convert to a dataframe\n",
    "    df.to_csv(\"./data/MNIST/X_test_encoded\",index=False) #save to file\n",
    "    model.train()\n",
    "\n",
    "preds = [model.predict(x) for x in X_test]\n",
    "acc = sklearn.metrics.accuracy_score(Y_test, preds)\n",
    "print(\"One pass training\", acc)\n",
    "\n",
    "model.retrain(20)\n",
    "preds = [model.predict(x) for x in X_test]\n",
    "acc = sklearn.metrics.accuracy_score(Y_test, preds)\n",
    "print(\"Iterative training\", acc)\n"
   ]
  }
 ],
 "metadata": {
  "kernelspec": {
   "display_name": "Python 3.10.5 ('hd')",
   "language": "python",
   "name": "python3"
  },
  "language_info": {
   "codemirror_mode": {
    "name": "ipython",
    "version": 3
   },
   "file_extension": ".py",
   "mimetype": "text/x-python",
   "name": "python",
   "nbconvert_exporter": "python",
   "pygments_lexer": "ipython3",
   "version": "3.10.5"
  },
  "vscode": {
   "interpreter": {
    "hash": "0ef724c052a071b5cbb2af73fa4bb354cea126d905f88b77f607c8ed66c767f5"
   }
  }
 },
 "nbformat": 4,
 "nbformat_minor": 5
}
